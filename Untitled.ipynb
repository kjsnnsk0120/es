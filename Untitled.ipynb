{
 "cells": [
  {
   "cell_type": "code",
   "execution_count": 12,
   "id": "9e797210",
   "metadata": {},
   "outputs": [],
   "source": [
    "import requests\n",
    "import json"
   ]
  },
  {
   "cell_type": "code",
   "execution_count": 13,
   "id": "d72c14c9",
   "metadata": {},
   "outputs": [],
   "source": [
    "import requests\n",
    "from bs4 import BeautifulSoup\n",
    "import pandas as pd\n",
    "\n",
    "url = 'https://www.shugiin.go.jp/internet/itdb_annai.nsf/html/statics/shiryo/dl-constitution.htm'\n",
    "response = requests.get(url).text\n",
    "soup = BeautifulSoup(response)\n",
    "buns = soup.find_all(\"p\", attrs = {\"class\":[\"bun\"]})"
   ]
  },
  {
   "cell_type": "code",
   "execution_count": 14,
   "id": "9a45ab0a",
   "metadata": {},
   "outputs": [
    {
     "data": {
      "text/html": [
       "<div>\n",
       "<style scoped>\n",
       "    .dataframe tbody tr th:only-of-type {\n",
       "        vertical-align: middle;\n",
       "    }\n",
       "\n",
       "    .dataframe tbody tr th {\n",
       "        vertical-align: top;\n",
       "    }\n",
       "\n",
       "    .dataframe thead th {\n",
       "        text-align: right;\n",
       "    }\n",
       "</style>\n",
       "<table border=\"1\" class=\"dataframe\">\n",
       "  <thead>\n",
       "    <tr style=\"text-align: right;\">\n",
       "      <th></th>\n",
       "      <th>jo</th>\n",
       "      <th>kou</th>\n",
       "      <th>bun</th>\n",
       "    </tr>\n",
       "  </thead>\n",
       "  <tbody>\n",
       "    <tr>\n",
       "      <th>0</th>\n",
       "      <td>1</td>\n",
       "      <td>1</td>\n",
       "      <td>天皇は、日本国の象徴であり日本国民統合の象徴であつて、この地位は、主権の存する日本国民の総意...</td>\n",
       "    </tr>\n",
       "    <tr>\n",
       "      <th>1</th>\n",
       "      <td>2</td>\n",
       "      <td>1</td>\n",
       "      <td>皇位は、世襲のものであつて、国会の議決した皇室典範の定めるところにより、これを継承する。</td>\n",
       "    </tr>\n",
       "    <tr>\n",
       "      <th>2</th>\n",
       "      <td>3</td>\n",
       "      <td>1</td>\n",
       "      <td>天皇の国事に関するすべての行為には、内閣の助言と承認を必要とし、内閣が、その責任を負ふ。</td>\n",
       "    </tr>\n",
       "    <tr>\n",
       "      <th>3</th>\n",
       "      <td>4</td>\n",
       "      <td>1</td>\n",
       "      <td>天皇は、この憲法の定める国事に関する行為のみを行ひ、国政に関する権能を有しない。</td>\n",
       "    </tr>\n",
       "    <tr>\n",
       "      <th>4</th>\n",
       "      <td>4</td>\n",
       "      <td>2</td>\n",
       "      <td>天皇は、法律の定めるところにより、その国事に関する行為を委任することができる。</td>\n",
       "    </tr>\n",
       "    <tr>\n",
       "      <th>...</th>\n",
       "      <td>...</td>\n",
       "      <td>...</td>\n",
       "      <td>...</td>\n",
       "    </tr>\n",
       "    <tr>\n",
       "      <th>155</th>\n",
       "      <td>100</td>\n",
       "      <td>1</td>\n",
       "      <td>この憲法は、公布の日から起算して六箇月を経過した日から、これを施行する。</td>\n",
       "    </tr>\n",
       "    <tr>\n",
       "      <th>156</th>\n",
       "      <td>100</td>\n",
       "      <td>2</td>\n",
       "      <td>この憲法を施行するために必要な法律の制定、参議院議員の選挙及び国会召集の手続並びにこの憲法を...</td>\n",
       "    </tr>\n",
       "    <tr>\n",
       "      <th>157</th>\n",
       "      <td>101</td>\n",
       "      <td>1</td>\n",
       "      <td>この憲法施行の際、参議院がまだ成立してゐないときは、その成立するまでの間、衆議院は、国会とし...</td>\n",
       "    </tr>\n",
       "    <tr>\n",
       "      <th>158</th>\n",
       "      <td>102</td>\n",
       "      <td>1</td>\n",
       "      <td>この憲法による第一期の参議院議員のうち、その半数の者の任期は、これを三年とする。その議員は、...</td>\n",
       "    </tr>\n",
       "    <tr>\n",
       "      <th>159</th>\n",
       "      <td>103</td>\n",
       "      <td>1</td>\n",
       "      <td>この憲法施行の際現に在職する国務大臣、衆議院議員及び裁判官並びにその他の公務員で、その地位に...</td>\n",
       "    </tr>\n",
       "  </tbody>\n",
       "</table>\n",
       "<p>160 rows × 3 columns</p>\n",
       "</div>"
      ],
      "text/plain": [
       "      jo  kou                                                bun\n",
       "0      1    1  天皇は、日本国の象徴であり日本国民統合の象徴であつて、この地位は、主権の存する日本国民の総意...\n",
       "1      2    1       皇位は、世襲のものであつて、国会の議決した皇室典範の定めるところにより、これを継承する。\n",
       "2      3    1       天皇の国事に関するすべての行為には、内閣の助言と承認を必要とし、内閣が、その責任を負ふ。\n",
       "3      4    1           天皇は、この憲法の定める国事に関する行為のみを行ひ、国政に関する権能を有しない。\n",
       "4      4    2            天皇は、法律の定めるところにより、その国事に関する行為を委任することができる。\n",
       "..   ...  ...                                                ...\n",
       "155  100    1               この憲法は、公布の日から起算して六箇月を経過した日から、これを施行する。\n",
       "156  100    2  この憲法を施行するために必要な法律の制定、参議院議員の選挙及び国会召集の手続並びにこの憲法を...\n",
       "157  101    1  この憲法施行の際、参議院がまだ成立してゐないときは、その成立するまでの間、衆議院は、国会とし...\n",
       "158  102    1  この憲法による第一期の参議院議員のうち、その半数の者の任期は、これを三年とする。その議員は、...\n",
       "159  103    1  この憲法施行の際現に在職する国務大臣、衆議院議員及び裁判官並びにその他の公務員で、その地位に...\n",
       "\n",
       "[160 rows x 3 columns]"
      ]
     },
     "execution_count": 14,
     "metadata": {},
     "output_type": "execute_result"
    }
   ],
   "source": [
    "kenpou_list = []\n",
    "suuji_dict = {\"一\":1,\"二\":2,\"三\":3,\"四\":4,\"五\":5,\"六\":6,\"七\":7,\"八\":8,\"九\":9}\n",
    "keta_dict = {\"十\":10, \"百\":100}\n",
    "for bun in buns:\n",
    "    #print(bun,bun[\"class\"])\n",
    "    if bun[\"class\"] == [\"bun\"]:\n",
    "        zyoukou = bun.text.replace(\"\\n\",\"\").split(\"\\u3000\")[0]\n",
    "        if zyoukou[0] == \"第\":\n",
    "            jo = 0\n",
    "            kou = 1\n",
    "            tmp = -1\n",
    "            i =1\n",
    "            while(True):\n",
    "                if zyoukou[i] in suuji_dict:\n",
    "                    tmp = suuji_dict[zyoukou[i]]\n",
    "                elif zyoukou[i] in keta_dict:\n",
    "                    if tmp == -1:\n",
    "                        jo += keta_dict[zyoukou[i]]\n",
    "                    else:\n",
    "                        jo += tmp * keta_dict[zyoukou[i]]\n",
    "                        tmp = -1\n",
    "                elif zyoukou[i] == \"条\":\n",
    "                    if tmp == -1:\n",
    "                        break\n",
    "                    else:\n",
    "                        jo += tmp\n",
    "                        break\n",
    "                i += 1\n",
    "        else:\n",
    "            kou = int(zyoukou)\n",
    "        kenpou_list.append([jo,kou,\"\\u3000\".join(bun.text.replace(\"\\n\",\"\").split(\"\\u3000\")[1:])])\n",
    "    else:\n",
    "        kenpou_list[-1][2] += bun.text\n",
    "kenpou = pd.DataFrame(kenpou_list,columns = [\"jo\",\"kou\",\"bun\"])\n",
    "kenpou"
   ]
  },
  {
   "cell_type": "code",
   "execution_count": 211,
   "id": "656dfdb1",
   "metadata": {},
   "outputs": [],
   "source": [
    "def to_es_db(df, url, index_name):\n",
    "    from elasticsearch import Elasticsearch, helpers\n",
    "    import hashlib\n",
    "    es = Elasticsearch(url)\n",
    "    def gen_data():\n",
    "        for row in df.itertuples():\n",
    "            doc = {}\n",
    "            for col_num,  col in enumerate(df.columns):\n",
    "                doc.update({col: row[col_num+1]})\n",
    "            yield {\"_op_type\": \"create\",\"_index\": index_name,\"_id\":hashlib.md5(str(doc).encode()).hexdigest(), \"_source\":doc}\n",
    "    helpers.bulk(es, gen_data())\n",
    "    es.close()\n",
    "    \n",
    "def show_es(url, index_name, search_col = False, search_word = False, size=10, from_ = 0):\n",
    "    from elasticsearch import Elasticsearch, helpers\n",
    "    import json\n",
    "    es = Elasticsearch(url)\n",
    "    query = {\"match\":{search_col: search_word}}\n",
    "    if not(search_col or search_word):\n",
    "        return es.search(index=index_name, size = size, from_ = from_)\n",
    "    return es.search(index=index_name, size = size, from_ = from_, query = query)\n",
    "    \n",
    "url = \"http://localhost:9200\"\n",
    "to_es_db(kenpou, url, \"kenpou27\")\n",
    "#show_es(url, \"kenpou27\",\"bun\", \"国会\" )"
   ]
  },
  {
   "cell_type": "code",
   "execution_count": 229,
   "id": "72efee09",
   "metadata": {},
   "outputs": [],
   "source": [
    "a = show_es(url, \"df\",size=3, from_ = 1)"
   ]
  },
  {
   "cell_type": "code",
   "execution_count": 230,
   "id": "37780603",
   "metadata": {},
   "outputs": [
    {
     "data": {
      "text/plain": [
       "ObjectApiResponse({'took': 17, 'timed_out': False, '_shards': {'total': 1, 'successful': 1, 'skipped': 0, 'failed': 0}, 'hits': {'total': {'value': 160, 'relation': 'eq'}, 'max_score': 1.0, 'hits': [{'_index': 'df', '_type': '_doc', '_id': '0dd23e78134e0897dc0fd676c26e1468', '_score': 1.0, '_source': {'条': 2, '項': 1, '文': '皇位は、世襲のものであつて、国会の議決した皇室典範の定めるところにより、これを継承する。'}}, {'_index': 'df', '_type': '_doc', '_id': '017f1ad4f91ffa93f434462ba75ace44', '_score': 1.0, '_source': {'条': 3, '項': 1, '文': '天皇の国事に関するすべての行為には、内閣の助言と承認を必要とし、内閣が、その責任を負ふ。'}}, {'_index': 'df', '_type': '_doc', '_id': '2f1a13869be1fffa482aae92903aed95', '_score': 1.0, '_source': {'条': 4, '項': 1, '文': '天皇は、この憲法の定める国事に関する行為のみを行ひ、国政に関する権能を有しない。'}}]}})"
      ]
     },
     "execution_count": 230,
     "metadata": {},
     "output_type": "execute_result"
    }
   ],
   "source": [
    "a"
   ]
  },
  {
   "cell_type": "code",
   "execution_count": 149,
   "id": "2fa63364",
   "metadata": {},
   "outputs": [
    {
     "data": {
      "text/html": [
       "<div>\n",
       "<style scoped>\n",
       "    .dataframe tbody tr th:only-of-type {\n",
       "        vertical-align: middle;\n",
       "    }\n",
       "\n",
       "    .dataframe tbody tr th {\n",
       "        vertical-align: top;\n",
       "    }\n",
       "\n",
       "    .dataframe thead th {\n",
       "        text-align: right;\n",
       "    }\n",
       "</style>\n",
       "<table border=\"1\" class=\"dataframe\">\n",
       "  <thead>\n",
       "    <tr style=\"text-align: right;\">\n",
       "      <th></th>\n",
       "      <th>条</th>\n",
       "      <th>項</th>\n",
       "      <th>文</th>\n",
       "    </tr>\n",
       "  </thead>\n",
       "  <tbody>\n",
       "    <tr>\n",
       "      <th>0</th>\n",
       "      <td>1</td>\n",
       "      <td>1</td>\n",
       "      <td>天皇は、日本国の象徴であり日本国民統合の象徴であつて、この地位は、主権の存する日本国民の総意...</td>\n",
       "    </tr>\n",
       "    <tr>\n",
       "      <th>1</th>\n",
       "      <td>2</td>\n",
       "      <td>1</td>\n",
       "      <td>皇位は、世襲のものであつて、国会の議決した皇室典範の定めるところにより、これを継承する。</td>\n",
       "    </tr>\n",
       "    <tr>\n",
       "      <th>2</th>\n",
       "      <td>3</td>\n",
       "      <td>1</td>\n",
       "      <td>天皇の国事に関するすべての行為には、内閣の助言と承認を必要とし、内閣が、その責任を負ふ。</td>\n",
       "    </tr>\n",
       "    <tr>\n",
       "      <th>3</th>\n",
       "      <td>4</td>\n",
       "      <td>1</td>\n",
       "      <td>天皇は、この憲法の定める国事に関する行為のみを行ひ、国政に関する権能を有しない。</td>\n",
       "    </tr>\n",
       "    <tr>\n",
       "      <th>4</th>\n",
       "      <td>4</td>\n",
       "      <td>2</td>\n",
       "      <td>天皇は、法律の定めるところにより、その国事に関する行為を委任することができる。</td>\n",
       "    </tr>\n",
       "    <tr>\n",
       "      <th>...</th>\n",
       "      <td>...</td>\n",
       "      <td>...</td>\n",
       "      <td>...</td>\n",
       "    </tr>\n",
       "    <tr>\n",
       "      <th>155</th>\n",
       "      <td>100</td>\n",
       "      <td>1</td>\n",
       "      <td>この憲法は、公布の日から起算して六箇月を経過した日から、これを施行する。</td>\n",
       "    </tr>\n",
       "    <tr>\n",
       "      <th>156</th>\n",
       "      <td>100</td>\n",
       "      <td>2</td>\n",
       "      <td>この憲法を施行するために必要な法律の制定、参議院議員の選挙及び国会召集の手続並びにこの憲法を...</td>\n",
       "    </tr>\n",
       "    <tr>\n",
       "      <th>157</th>\n",
       "      <td>101</td>\n",
       "      <td>1</td>\n",
       "      <td>この憲法施行の際、参議院がまだ成立してゐないときは、その成立するまでの間、衆議院は、国会とし...</td>\n",
       "    </tr>\n",
       "    <tr>\n",
       "      <th>158</th>\n",
       "      <td>102</td>\n",
       "      <td>1</td>\n",
       "      <td>この憲法による第一期の参議院議員のうち、その半数の者の任期は、これを三年とする。その議員は、...</td>\n",
       "    </tr>\n",
       "    <tr>\n",
       "      <th>159</th>\n",
       "      <td>103</td>\n",
       "      <td>1</td>\n",
       "      <td>この憲法施行の際現に在職する国務大臣、衆議院議員及び裁判官並びにその他の公務員で、その地位に...</td>\n",
       "    </tr>\n",
       "  </tbody>\n",
       "</table>\n",
       "<p>160 rows × 3 columns</p>\n",
       "</div>"
      ],
      "text/plain": [
       "       条  項                                                  文\n",
       "0      1  1  天皇は、日本国の象徴であり日本国民統合の象徴であつて、この地位は、主権の存する日本国民の総意...\n",
       "1      2  1       皇位は、世襲のものであつて、国会の議決した皇室典範の定めるところにより、これを継承する。\n",
       "2      3  1       天皇の国事に関するすべての行為には、内閣の助言と承認を必要とし、内閣が、その責任を負ふ。\n",
       "3      4  1           天皇は、この憲法の定める国事に関する行為のみを行ひ、国政に関する権能を有しない。\n",
       "4      4  2            天皇は、法律の定めるところにより、その国事に関する行為を委任することができる。\n",
       "..   ... ..                                                ...\n",
       "155  100  1               この憲法は、公布の日から起算して六箇月を経過した日から、これを施行する。\n",
       "156  100  2  この憲法を施行するために必要な法律の制定、参議院議員の選挙及び国会召集の手続並びにこの憲法を...\n",
       "157  101  1  この憲法施行の際、参議院がまだ成立してゐないときは、その成立するまでの間、衆議院は、国会とし...\n",
       "158  102  1  この憲法による第一期の参議院議員のうち、その半数の者の任期は、これを三年とする。その議員は、...\n",
       "159  103  1  この憲法施行の際現に在職する国務大臣、衆議院議員及び裁判官並びにその他の公務員で、その地位に...\n",
       "\n",
       "[160 rows x 3 columns]"
      ]
     },
     "execution_count": 149,
     "metadata": {},
     "output_type": "execute_result"
    }
   ],
   "source": [
    "pd.read_csv(\"kenpou.csv\", encoding=\"shift_jis\", index_col=0)"
   ]
  },
  {
   "cell_type": "code",
   "execution_count": 176,
   "id": "9f166a43",
   "metadata": {},
   "outputs": [],
   "source": [
    "import pandas as pd\n",
    "import os"
   ]
  },
  {
   "cell_type": "code",
   "execution_count": 231,
   "id": "d925659e",
   "metadata": {},
   "outputs": [],
   "source": [
    "dir_ = \"./data/db/\"\n",
    "url = \"http://localhost:9200\"\n",
    "\n",
    "for filename in os.listdir(dir_):\n",
    "    path = os.path.join(dir_, filename)\n",
    "    df = pd.read_csv(path, encoding = \"shift_jis\", index_col=0)\n",
    "    to_es_db(df, url, \"df\")"
   ]
  },
  {
   "cell_type": "code",
   "execution_count": 232,
   "id": "f0fb1fd7",
   "metadata": {},
   "outputs": [
    {
     "data": {
      "text/plain": [
       "ObjectApiResponse({'took': 8, 'timed_out': False, '_shards': {'total': 1, 'successful': 1, 'skipped': 0, 'failed': 0}, 'hits': {'total': {'value': 160, 'relation': 'eq'}, 'max_score': 1.0, 'hits': [{'_index': 'df', '_type': '_doc', '_id': '0dd23e78134e0897dc0fd676c26e1468', '_score': 1.0, '_source': {'条': 2, '項': 1, '文': '皇位は、世襲のものであつて、国会の議決した皇室典範の定めるところにより、これを継承する。'}}, {'_index': 'df', '_type': '_doc', '_id': '017f1ad4f91ffa93f434462ba75ace44', '_score': 1.0, '_source': {'条': 3, '項': 1, '文': '天皇の国事に関するすべての行為には、内閣の助言と承認を必要とし、内閣が、その責任を負ふ。'}}, {'_index': 'df', '_type': '_doc', '_id': '2f1a13869be1fffa482aae92903aed95', '_score': 1.0, '_source': {'条': 4, '項': 1, '文': '天皇は、この憲法の定める国事に関する行為のみを行ひ、国政に関する権能を有しない。'}}]}})"
      ]
     },
     "execution_count": 232,
     "metadata": {},
     "output_type": "execute_result"
    }
   ],
   "source": [
    "show_es(url, \"df\",size=3, from_ = 1)"
   ]
  },
  {
   "cell_type": "code",
   "execution_count": 209,
   "id": "c079df12",
   "metadata": {},
   "outputs": [
    {
     "name": "stdout",
     "output_type": "stream",
     "text": [
      "False\n",
      "False\n",
      "False\n",
      "False\n",
      "False\n",
      "False\n",
      "False\n",
      "False\n",
      "False\n",
      "False\n",
      "False\n",
      "False\n",
      "<Response [200]>\n"
     ]
    }
   ],
   "source": [
    "def wait_til_es(url):\n",
    "while(True):\n",
    "    try:\n",
    "        res = requests.get(url)\n",
    "    except :\n",
    "        time.sleep(5)\n",
    "        continue\n",
    "    break"
   ]
  },
  {
   "cell_type": "code",
   "execution_count": 234,
   "id": "3654d542",
   "metadata": {},
   "outputs": [],
   "source": [
    "import base64"
   ]
  },
  {
   "cell_type": "code",
   "execution_count": 274,
   "id": "0eebf258",
   "metadata": {},
   "outputs": [
    {
     "name": "stdout",
     "output_type": "stream",
     "text": [
      "{\"acknowledged\":true}\n",
      "{\"error\":{\"root_cause\":[{\"type\":\"resource_already_exists_exception\",\"reason\":\"index [df/TlBIDvFKRwq9jtBepqz9rA] already exists\",\"index_uuid\":\"TlBIDvFKRwq9jtBepqz9rA\",\"index\":\"df\"}],\"type\":\"resource_already_exists_exception\",\"reason\":\"index [df/TlBIDvFKRwq9jtBepqz9rA] already exists\",\"index_uuid\":\"TlBIDvFKRwq9jtBepqz9rA\",\"index\":\"df\"},\"status\":400}\n",
      "http://localhost:9200/df/_doc/fd766ce90100cd51283e197d7a90d4c8?pipeline=attachment\n",
      "{\"_index\":\"df\",\"_type\":\"_doc\",\"_id\":\"fd766ce90100cd51283e197d7a90d4c8\",\"_version\":1,\"result\":\"created\",\"_shards\":{\"total\":2,\"successful\":1,\"failed\":0},\"_seq_no\":160,\"_primary_term\":1}\n"
     ]
    }
   ],
   "source": [
    "import requests\n",
    "\n",
    "url = \"http://localhost:9200\"\n",
    "dir_ = \"./data/file/\"\n",
    "setting_query = json.dumps({\"description\" : \"Extract attachment information\",\"processors\" : [{\"attachment\" : {\"field\" : \"data\"}}]})\n",
    "\n",
    "def upload_file(path, url, index_name):\n",
    "        with open(path, \"rb\") as f:\n",
    "        file = f.read()\n",
    "    file_base64 = base64.b64encode(file)\n",
    "    id_ = hashlib.md5(file_base64).hexdigest()\n",
    "    requests.put(url+\"/\"+index_name + \"/_doc/\"+id_+\"?pipeline=attachment\", data = json.dumps({\"data\":file_base64.decode('utf-8')}),headers = {\"Content-Type\": \"application/json\"})\n",
    "\n",
    "requests.put(url + \"/_ingest/pipeline/attachment\", data = query, headers = {\"Content-Type\": \"application/json\"})\n",
    "requests.put(url+\"/df\")\n",
    "for filename in os.listdir(dir_):\n",
    "    path = os.path.join(dir_, filename)    \n",
    "    upload_file(path, url, \"df\")"
   ]
  },
  {
   "cell_type": "code",
   "execution_count": 490,
   "id": "7a6c0075",
   "metadata": {},
   "outputs": [],
   "source": [
    "query_dict = {\n",
    "  \"highlight\": {\n",
    "    \"fields\": {\n",
    "      \"文\": {\n",
    "        \"post_tags\": [\n",
    "          \"</strong>\"\n",
    "        ],\n",
    "        \"pre_tags\": [\n",
    "          \"<strong>\"\n",
    "        ]\n",
    "      },\n",
    "      \"attachment.content\": {\n",
    "        \"post_tags\": [\n",
    "          \"</strong>\"\n",
    "        ],\n",
    "        \"pre_tags\": [\n",
    "          \"<strong>\"\n",
    "        ]\n",
    "      }\n",
    "    },\n",
    "    \"fragment_size\": 100,\n",
    "    \"number_of_fragments\": 1,\n",
    "    \"fragmenter\": \"simple\",\n",
    "  }\n",
    "}\n",
    "                                                           \n",
    "query = json.dumps(query_dict)"
   ]
  },
  {
   "cell_type": "code",
   "execution_count": 576,
   "id": "871efe17",
   "metadata": {},
   "outputs": [],
   "source": [
    "def show_es3(url, index_name, search_col , search_word = False, size=10, from_ = 0):\n",
    "    import requests\n",
    "    import json\n",
    "    query_dict = {\n",
    "      \"query\": {\n",
    "        \"multi_match\": {\n",
    "          \"query\": search_word,\n",
    "          \"fields\": search_col + [\"attachment.content\"],\n",
    "          \"type\": \"phrase\"\n",
    "        }\n",
    "      },\n",
    "      \"highlight\": {\n",
    "        \"fields\": {\n",
    "          \"attachment.content\": {\n",
    "            \"post_tags\": [\n",
    "              \"</strong>\"\n",
    "            ],\n",
    "            \"pre_tags\": [\n",
    "              \"<strong>\"\n",
    "            ]\n",
    "          }\n",
    "        },\n",
    "        \"fragment_size\": 100,\n",
    "        \"number_of_fragments\": 1,\n",
    "        \"fragmenter\": \"plain\"\n",
    "      }\n",
    "    }\n",
    "\n",
    "    for col in search_col:\n",
    "        query_dict[\"highlight\"][\"fields\"].update({col:{'post_tags': ['</strong>'], 'pre_tags': ['<strong>']}})\n",
    "\n",
    "    query = json.dumps(query_dict)\n",
    "    res = json.loads(requests.get(url+\"/\"+index_name + \"/_search?size=\"+str(size)+\"&from=\"+str(from_), data = query, headers = {\"Content-Type\": \"application/json\"}).text)\n",
    "    return res"
   ]
  },
  {
   "cell_type": "code",
   "execution_count": 602,
   "id": "4b6aa371",
   "metadata": {},
   "outputs": [
    {
     "data": {
      "text/plain": [
       "{'took': 9,\n",
       " 'timed_out': False,\n",
       " '_shards': {'total': 1, 'successful': 1, 'skipped': 0, 'failed': 0},\n",
       " 'hits': {'total': {'value': 1, 'relation': 'eq'},\n",
       "  'max_score': 2.1432638,\n",
       "  'hits': [{'_index': 'df',\n",
       "    '_type': '_doc',\n",
       "    '_id': 'fd766ce90100cd51283e197d7a90d4c8',\n",
       "    '_score': 2.1432638,\n",
       "    '_ignored': ['attachment.content.keyword'],\n",
       "    '_source': {'filename': '000915100.docx',\n",
       "     'attachment': {'date': '2021-09-17T00:14:00Z',\n",
       "      'content_type': 'application/vnd.openxmlformats-officedocument.wordprocessingml.document',\n",
       "      'author': 'Windows ユーザー',\n",
       "      'language': 'lt',\n",
       "      'content': '猫の飼養引継ぎに関する同意書\\n\\n令和\\u3000\\u3000年\\u3000\\u3000月\\u3000\\u3000日\\n\\n静岡市動物愛護館あて\\n\\n\\u3000譲渡申込者がやむを得ない事情により猫の継続飼育が困難になった場合には、猫の年齢や状態に関わらず、飼養引継者が当該猫を引き取り、責任を持って適正に終生飼養することを約束します。\\n\\n譲渡申込者\\t氏名\\u3000\\u3000\\u3000\\u3000\\u3000\\u3000\\u3000\\u3000\\u3000\\u3000\\u3000\\u3000\\u3000\\u3000\\u3000\\u3000\\u3000\\u3000\\u3000\\u3000\\u3000\\n\\n\\u3000\\u3000\\u3000\\u3000\\u3000\\u3000\\u3000住所\\u3000\\u3000\\u3000\\u3000\\u3000\\u3000\\u3000\\u3000\\u3000\\u3000\\u3000\\u3000\\u3000\\u3000\\u3000\\u3000\\u3000\\u3000\\u3000\\u3000\\u3000\\n\\n\\u3000\\u3000\\u3000\\u3000\\u3000\\u3000\\u3000連絡先\\u3000\\u3000\\u3000\\u3000\\u3000\\u3000\\u3000\\u3000\\u3000\\u3000\\u3000\\u3000\\u3000\\u3000\\u3000\\u3000\\u3000\\u3000\\u3000\\u3000\\n\\n\\n飼養引継者\\t氏名\\u3000\\u3000\\u3000\\u3000\\u3000\\u3000\\u3000\\u3000\\u3000\\u3000\\u3000\\u3000\\u3000\\u3000\\u3000\\u3000\\u3000\\u3000\\u3000\\u3000\\u3000\\n\\n\\u3000\\u3000\\u3000\\u3000\\u3000\\u3000\\u3000申込者との関係\\u3000\\u3000\\u3000\\u3000\\u3000\\u3000\\u3000\\u3000年齢\\u3000\\u3000\\u3000\\u3000\\u3000\\u3000\\n\\n\\u3000\\u3000\\u3000\\u3000\\u3000\\u3000\\u3000住所\\u3000\\u3000\\u3000\\u3000\\u3000\\u3000\\u3000\\u3000\\u3000\\u3000\\u3000\\u3000\\u3000\\u3000\\u3000\\u3000\\u3000\\u3000\\u3000\\u3000\\u3000\\n\\n\\u3000\\u3000\\u3000\\u3000\\u3000\\u3000\\u3000連絡先\\u3000\\u3000\\u3000\\u3000\\u3000\\u3000\\u3000\\u3000\\u3000\\u3000\\u3000\\u3000\\u3000\\u3000\\u3000\\u3000\\u3000\\u3000\\u3000\\u3000\\n\\n\\u3000\\u3000\\u3000\\u3000\\u3000\\u3000\\u3000\\u3000下記にチェックをしてください。\\n☐  猫を飼うことに同居人が全員賛成しています。\\n☐  同居人に猫アレルギーの人はいません。\\n☐  ペット飼養可の住居に住んでいます。\\n☐\\u300060歳以下です。',\n",
       "      'content_length': 457}},\n",
       "    'highlight': {'attachment.content': ['<strong>猫</strong>の飼養引継ぎに関する同意書\\n\\n令和\\u3000\\u3000年\\u3000\\u3000月\\u3000\\u3000日\\n\\n静岡市動物愛護館あて\\n\\n\\u3000譲渡申込者がやむを得ない事情により<strong>猫</strong>の継続飼育が困難になった場合には、<strong>猫</strong>の年齢や状態に関わらず、飼養引継者が当該<strong>猫</strong>を引']}}]}}"
      ]
     },
     "execution_count": 602,
     "metadata": {},
     "output_type": "execute_result"
    }
   ],
   "source": [
    "show_es3(url, \"df\", [\"文\",\"attachment.content\"],search_word = \"猫\", size=10, from_ = 0)"
   ]
  },
  {
   "cell_type": "code",
   "execution_count": 313,
   "id": "7376ae91",
   "metadata": {},
   "outputs": [],
   "source": [
    "def show_es2(url, index_name, search_word = False, size=10, from_ = 0):\n",
    "    from elasticsearch import Elasticsearch, helpers\n",
    "    import json\n",
    "    es = Elasticsearch(url)\n",
    "    url_q = url + \"/\" + index_name + \"/_search\"\n",
    "    params = {}\n",
    "    if search_word:\n",
    "        params.update({\"q\":search_word}) \n",
    "    params.update({\"size\":size})         \n",
    "    params.update({\"from\": from_})\n",
    "    return requests.get(url_q, params = params)"
   ]
  },
  {
   "cell_type": "code",
   "execution_count": 599,
   "id": "7ccf0107",
   "metadata": {},
   "outputs": [
    {
     "ename": "TypeError",
     "evalue": "can only concatenate str (not \"list\") to str",
     "output_type": "error",
     "traceback": [
      "\u001b[0;31m---------------------------------------------------------------------------\u001b[0m",
      "\u001b[0;31mTypeError\u001b[0m                                 Traceback (most recent call last)",
      "Cell \u001b[0;32mIn[599], line 1\u001b[0m\n\u001b[0;32m----> 1\u001b[0m \u001b[43mshow_es2\u001b[49m\u001b[43m(\u001b[49m\u001b[43murl\u001b[49m\u001b[43m,\u001b[49m\u001b[38;5;124;43m\"\u001b[39;49m\u001b[38;5;124;43mdf\u001b[39;49m\u001b[38;5;124;43m\"\u001b[39;49m\u001b[43m,\u001b[49m\u001b[43m \u001b[49m\u001b[43msearch_word\u001b[49m\u001b[43m \u001b[49m\u001b[38;5;241;43m=\u001b[39;49m\u001b[43m \u001b[49m\u001b[43m[\u001b[49m\u001b[38;5;124;43m\"\u001b[39;49m\u001b[38;5;124;43mbiomarker\u001b[39;49m\u001b[38;5;124;43m\"\u001b[39;49m\u001b[43m]\u001b[49m\u001b[43m,\u001b[49m\u001b[43m \u001b[49m\u001b[43msize\u001b[49m\u001b[38;5;241;43m=\u001b[39;49m\u001b[38;5;241;43m1\u001b[39;49m\u001b[43m,\u001b[49m\u001b[43m \u001b[49m\u001b[43mfrom_\u001b[49m\u001b[38;5;241;43m=\u001b[39;49m\u001b[43m \u001b[49m\u001b[38;5;241;43m0\u001b[39;49m\u001b[43m)\u001b[49m\u001b[38;5;241m.\u001b[39mtext\n",
      "Cell \u001b[0;32mIn[525], line 31\u001b[0m, in \u001b[0;36mshow_es2\u001b[0;34m(url, index_name, search_word, size, from_)\u001b[0m\n\u001b[1;32m      4\u001b[0m query_dict \u001b[38;5;241m=\u001b[39m {\n\u001b[1;32m      5\u001b[0m   \u001b[38;5;124m\"\u001b[39m\u001b[38;5;124mhighlight\u001b[39m\u001b[38;5;124m\"\u001b[39m: {\n\u001b[1;32m      6\u001b[0m     \u001b[38;5;124m\"\u001b[39m\u001b[38;5;124mfields\u001b[39m\u001b[38;5;124m\"\u001b[39m: {\n\u001b[0;32m   (...)\u001b[0m\n\u001b[1;32m     27\u001b[0m   }\n\u001b[1;32m     28\u001b[0m }\n\u001b[1;32m     30\u001b[0m query \u001b[38;5;241m=\u001b[39m json\u001b[38;5;241m.\u001b[39mdumps(query_dict)\n\u001b[0;32m---> 31\u001b[0m res \u001b[38;5;241m=\u001b[39m json\u001b[38;5;241m.\u001b[39mloads(requests\u001b[38;5;241m.\u001b[39mget(\u001b[43murl\u001b[49m\u001b[38;5;241;43m+\u001b[39;49m\u001b[38;5;124;43m\"\u001b[39;49m\u001b[38;5;124;43m/\u001b[39;49m\u001b[38;5;124;43m\"\u001b[39;49m\u001b[38;5;241;43m+\u001b[39;49m\u001b[43mindex_name\u001b[49m\u001b[43m \u001b[49m\u001b[38;5;241;43m+\u001b[39;49m\u001b[43m \u001b[49m\u001b[38;5;124;43m\"\u001b[39;49m\u001b[38;5;124;43m/_search?q=\u001b[39;49m\u001b[38;5;124;43m\"\u001b[39;49m\u001b[38;5;241;43m+\u001b[39;49m\u001b[43msearch_word\u001b[49m \u001b[38;5;241m+\u001b[39m\u001b[38;5;124m\"\u001b[39m\u001b[38;5;124m&size=\u001b[39m\u001b[38;5;124m\"\u001b[39m\u001b[38;5;241m+\u001b[39msize\u001b[38;5;241m+\u001b[39m\u001b[38;5;124m\"\u001b[39m\u001b[38;5;124m&from=\u001b[39m\u001b[38;5;124m\"\u001b[39m\u001b[38;5;241m+\u001b[39mfrom_, data \u001b[38;5;241m=\u001b[39m query, headers \u001b[38;5;241m=\u001b[39m {\u001b[38;5;124m\"\u001b[39m\u001b[38;5;124mContent-Type\u001b[39m\u001b[38;5;124m\"\u001b[39m: \u001b[38;5;124m\"\u001b[39m\u001b[38;5;124mapplication/json\u001b[39m\u001b[38;5;124m\"\u001b[39m})\u001b[38;5;241m.\u001b[39mtext)\n\u001b[1;32m     32\u001b[0m \u001b[38;5;28;01mreturn\u001b[39;00m res\n",
      "\u001b[0;31mTypeError\u001b[0m: can only concatenate str (not \"list\") to str"
     ]
    }
   ],
   "source": [
    "show_es2(url,\"df\", search_word = [\"biomarker\"], size=1, from_= 0).text"
   ]
  },
  {
   "cell_type": "code",
   "execution_count": 464,
   "id": "0e199619",
   "metadata": {},
   "outputs": [],
   "source": [
    "with open(\"./flask/search_obj.json\") as f:\n",
    "    a = json.load(f)"
   ]
  },
  {
   "cell_type": "code",
   "execution_count": 466,
   "id": "8b72ec21",
   "metadata": {},
   "outputs": [
    {
     "data": {
      "text/plain": [
       "['文']"
      ]
     },
     "execution_count": 466,
     "metadata": {},
     "output_type": "execute_result"
    }
   ],
   "source": [
    "a[\"kenpou\"]"
   ]
  },
  {
   "cell_type": "code",
   "execution_count": 519,
   "id": "152d6f0e",
   "metadata": {},
   "outputs": [
    {
     "data": {
      "text/plain": [
       "'{\"acknowledged\":true,\"shards_acknowledged\":true,\"index\":\"jptest\"}'"
      ]
     },
     "execution_count": 519,
     "metadata": {},
     "output_type": "execute_result"
    }
   ],
   "source": [
    "query_jp = json.dumps({\"mappings\":  {\"properties\": {\"文\": {\"type\": \"text\",\"analyzer\": \"kuromoji\"}}}})\n",
    "\n",
    "requests.put(url + \"/jptest\", data=query_jp,headers = {\"Content-Type\": \"application/json\"}).text"
   ]
  },
  {
   "cell_type": "code",
   "execution_count": 523,
   "id": "774fa9a7",
   "metadata": {},
   "outputs": [
    {
     "data": {
      "text/plain": [
       "'{\"took\":24,\"timed_out\":false,\"_shards\":{\"total\":1,\"successful\":1,\"skipped\":0,\"failed\":0},\"hits\":{\"total\":{\"value\":27,\"relation\":\"eq\"},\"max_score\":6.27214,\"hits\":[{\"_index\":\"jptest\",\"_type\":\"_doc\",\"_id\":\"ce3922873d131b503ff0f4cf8be87c02\",\"_score\":6.27214,\"_source\":{\"jo\":70,\"kou\":1,\"bun\":\"内閣総理大臣が欠けたとき、又は衆議院議員総選挙の後に初めて国会の召集があつたときは、内閣は、総辞職をしなければならない。\"}},{\"_index\":\"jptest\",\"_type\":\"_doc\",\"_id\":\"bec491be151e8663bb6d6fa9e882ad9c\",\"_score\":6.130624,\"_source\":{\"jo\":6,\"kou\":1,\"bun\":\"天皇は、国会の指名に基いて、内閣総理大臣を任命する。\"}},{\"_index\":\"jptest\",\"_type\":\"_doc\",\"_id\":\"c35452c59c7175ea5ec250dc0dbaf57d\",\"_score\":6.072088,\"_source\":{\"jo\":68,\"kou\":2,\"bun\":\"内閣総理大臣は、任意に国務大臣を罷免することができる。\"}},{\"_index\":\"jptest\",\"_type\":\"_doc\",\"_id\":\"415a1f8c1966e8c5c37cce9ad014bed7\",\"_score\":6.0432367,\"_source\":{\"jo\":66,\"kou\":2,\"bun\":\"内閣総理大臣その他の国務大臣は、文民でなければならない。\"}},{\"_index\":\"jptest\",\"_type\":\"_doc\",\"_id\":\"c81ca33e59e2e54ac131f80e07f00b7e\",\"_score\":5.666316,\"_source\":{\"jo\":71,\"kou\":1,\"bun\":\"前二条の場合には、内閣は、あらたに内閣総理大臣が任命されるまで引き続きその職務を行ふ。\"}},{\"_index\":\"jptest\",\"_type\":\"_doc\",\"_id\":\"ffe1d7c69d213191d07b55e1b1f2a3f6\",\"_score\":5.666316,\"_source\":{\"jo\":74,\"kou\":1,\"bun\":\"法律及び政令には、すべて主任の国務大臣が署名し、内閣総理大臣が連署することを必要とする。\"}},{\"_index\":\"jptest\",\"_type\":\"_doc\",\"_id\":\"225ca0918320cea61172216c4f663421\",\"_score\":5.616275,\"_source\":{\"jo\":68,\"kou\":1,\"bun\":\"内閣総理大臣は、国務大臣を任命する。但し、その過半数は、国会議員の中から選ばれなければならない。\"}},{\"_index\":\"jptest\",\"_type\":\"_doc\",\"_id\":\"4edceae9ad8108e9ff4b75832d19d795\",\"_score\":5.5671096,\"_source\":{\"jo\":66,\"kou\":1,\"bun\":\"内閣は、法律の定めるところにより、その首長たる内閣総理大臣及びその他の国務大臣でこれを組織する。\"}},{\"_index\":\"jptest\",\"_type\":\"_doc\",\"_id\":\"c2661ad4bf84d5ee4f8554e6607fa1cc\",\"_score\":5.4713163,\"_source\":{\"jo\":75,\"kou\":1,\"bun\":\"国務大臣は、その在任中、内閣総理大臣の同意がなければ、訴追されない。但し、これがため、訴追の権利は、害されない。\"}},{\"_index\":\"jptest\",\"_type\":\"_doc\",\"_id\":\"24322af93cdc54546e1990ac80d9b53d\",\"_score\":5.424646,\"_source\":{\"jo\":67,\"kou\":1,\"bun\":\"内閣総理大臣は、国会議員の中から国会の議決で、これを指名する。この指名は、他のすべての案件に先だつて、これを行ふ。\"}}]}}'"
      ]
     },
     "execution_count": 523,
     "metadata": {},
     "output_type": "execute_result"
    }
   ],
   "source": [
    "show_es2(url,\"jptest\", search_word = \"総理\", size=10, from_= 0).text"
   ]
  },
  {
   "cell_type": "code",
   "execution_count": 520,
   "id": "e83d6646",
   "metadata": {},
   "outputs": [],
   "source": [
    "to_es_db(kenpou, url, \"jptest\")"
   ]
  },
  {
   "cell_type": "code",
   "execution_count": 513,
   "id": "05fd422a",
   "metadata": {},
   "outputs": [
    {
     "data": {
      "text/html": [
       "<div>\n",
       "<style scoped>\n",
       "    .dataframe tbody tr th:only-of-type {\n",
       "        vertical-align: middle;\n",
       "    }\n",
       "\n",
       "    .dataframe tbody tr th {\n",
       "        vertical-align: top;\n",
       "    }\n",
       "\n",
       "    .dataframe thead th {\n",
       "        text-align: right;\n",
       "    }\n",
       "</style>\n",
       "<table border=\"1\" class=\"dataframe\">\n",
       "  <thead>\n",
       "    <tr style=\"text-align: right;\">\n",
       "      <th></th>\n",
       "      <th>jo</th>\n",
       "      <th>kou</th>\n",
       "      <th>bun</th>\n",
       "    </tr>\n",
       "  </thead>\n",
       "  <tbody>\n",
       "    <tr>\n",
       "      <th>0</th>\n",
       "      <td>1</td>\n",
       "      <td>1</td>\n",
       "      <td>天皇は、日本国の象徴であり日本国民統合の象徴であつて、この地位は、主権の存する日本国民の総意...</td>\n",
       "    </tr>\n",
       "    <tr>\n",
       "      <th>1</th>\n",
       "      <td>2</td>\n",
       "      <td>1</td>\n",
       "      <td>皇位は、世襲のものであつて、国会の議決した皇室典範の定めるところにより、これを継承する。</td>\n",
       "    </tr>\n",
       "    <tr>\n",
       "      <th>2</th>\n",
       "      <td>3</td>\n",
       "      <td>1</td>\n",
       "      <td>天皇の国事に関するすべての行為には、内閣の助言と承認を必要とし、内閣が、その責任を負ふ。</td>\n",
       "    </tr>\n",
       "    <tr>\n",
       "      <th>3</th>\n",
       "      <td>4</td>\n",
       "      <td>1</td>\n",
       "      <td>天皇は、この憲法の定める国事に関する行為のみを行ひ、国政に関する権能を有しない。</td>\n",
       "    </tr>\n",
       "    <tr>\n",
       "      <th>4</th>\n",
       "      <td>4</td>\n",
       "      <td>2</td>\n",
       "      <td>天皇は、法律の定めるところにより、その国事に関する行為を委任することができる。</td>\n",
       "    </tr>\n",
       "    <tr>\n",
       "      <th>...</th>\n",
       "      <td>...</td>\n",
       "      <td>...</td>\n",
       "      <td>...</td>\n",
       "    </tr>\n",
       "    <tr>\n",
       "      <th>155</th>\n",
       "      <td>100</td>\n",
       "      <td>1</td>\n",
       "      <td>この憲法は、公布の日から起算して六箇月を経過した日から、これを施行する。</td>\n",
       "    </tr>\n",
       "    <tr>\n",
       "      <th>156</th>\n",
       "      <td>100</td>\n",
       "      <td>2</td>\n",
       "      <td>この憲法を施行するために必要な法律の制定、参議院議員の選挙及び国会召集の手続並びにこの憲法を...</td>\n",
       "    </tr>\n",
       "    <tr>\n",
       "      <th>157</th>\n",
       "      <td>101</td>\n",
       "      <td>1</td>\n",
       "      <td>この憲法施行の際、参議院がまだ成立してゐないときは、その成立するまでの間、衆議院は、国会とし...</td>\n",
       "    </tr>\n",
       "    <tr>\n",
       "      <th>158</th>\n",
       "      <td>102</td>\n",
       "      <td>1</td>\n",
       "      <td>この憲法による第一期の参議院議員のうち、その半数の者の任期は、これを三年とする。その議員は、...</td>\n",
       "    </tr>\n",
       "    <tr>\n",
       "      <th>159</th>\n",
       "      <td>103</td>\n",
       "      <td>1</td>\n",
       "      <td>この憲法施行の際現に在職する国務大臣、衆議院議員及び裁判官並びにその他の公務員で、その地位に...</td>\n",
       "    </tr>\n",
       "  </tbody>\n",
       "</table>\n",
       "<p>160 rows × 3 columns</p>\n",
       "</div>"
      ],
      "text/plain": [
       "      jo  kou                                                bun\n",
       "0      1    1  天皇は、日本国の象徴であり日本国民統合の象徴であつて、この地位は、主権の存する日本国民の総意...\n",
       "1      2    1       皇位は、世襲のものであつて、国会の議決した皇室典範の定めるところにより、これを継承する。\n",
       "2      3    1       天皇の国事に関するすべての行為には、内閣の助言と承認を必要とし、内閣が、その責任を負ふ。\n",
       "3      4    1           天皇は、この憲法の定める国事に関する行為のみを行ひ、国政に関する権能を有しない。\n",
       "4      4    2            天皇は、法律の定めるところにより、その国事に関する行為を委任することができる。\n",
       "..   ...  ...                                                ...\n",
       "155  100    1               この憲法は、公布の日から起算して六箇月を経過した日から、これを施行する。\n",
       "156  100    2  この憲法を施行するために必要な法律の制定、参議院議員の選挙及び国会召集の手続並びにこの憲法を...\n",
       "157  101    1  この憲法施行の際、参議院がまだ成立してゐないときは、その成立するまでの間、衆議院は、国会とし...\n",
       "158  102    1  この憲法による第一期の参議院議員のうち、その半数の者の任期は、これを三年とする。その議員は、...\n",
       "159  103    1  この憲法施行の際現に在職する国務大臣、衆議院議員及び裁判官並びにその他の公務員で、その地位に...\n",
       "\n",
       "[160 rows x 3 columns]"
      ]
     },
     "execution_count": 513,
     "metadata": {},
     "output_type": "execute_result"
    }
   ],
   "source": [
    "kenpou"
   ]
  },
  {
   "cell_type": "code",
   "execution_count": 562,
   "id": "d6a43aee",
   "metadata": {},
   "outputs": [],
   "source": [
    "query = {\n",
    "  \"query\": {\n",
    "    \"multi_match\": {\n",
    "      \"query\": search_word,\n",
    "      \"fields\": search_col + [\"attachment.content\"],\n",
    "      \"type\": \"phrase\"\n",
    "    }\n",
    "  },\n",
    "  \"highlight\": {\n",
    "    \"fields\": {\n",
    "      \"attachment.content\": {\n",
    "        \"post_tags\": [\n",
    "          \"</strong>\"\n",
    "        ],\n",
    "        \"pre_tags\": [\n",
    "          \"<strong>\"\n",
    "        ]\n",
    "      }\n",
    "    },\n",
    "    \"fragment_size\": 100,\n",
    "    \"number_of_fragments\": 1,\n",
    "    \"fragmenter\": \"plain\"\n",
    "  }\n",
    "}\n",
    "\n",
    "for col in search_col:\n",
    "    query[\"highlight\"][\"fields\"].update({col:{'post_tags': ['</strong>'], 'pre_tags': ['<strong>']}})\n",
    "    \n",
    "    "
   ]
  },
  {
   "cell_type": "code",
   "execution_count": 572,
   "id": "776f346b",
   "metadata": {},
   "outputs": [],
   "source": [
    "q[\"highlight\"][\"fields\"].update({\"aaa\":{'post_tags': ['</strong>'], 'pre_tags': ['<strong>']}})"
   ]
  },
  {
   "cell_type": "code",
   "execution_count": 573,
   "id": "b30570f3",
   "metadata": {},
   "outputs": [
    {
     "data": {
      "text/plain": [
       "{'bun': {'post_tags': ['</strong>'], 'pre_tags': ['<strong>']},\n",
       " 'attachment.content': {'post_tags': ['</strong>'], 'pre_tags': ['<strong>']},\n",
       " 'aaa': {'post_tags': ['</strong>'], 'pre_tags': ['<strong>']}}"
      ]
     },
     "execution_count": 573,
     "metadata": {},
     "output_type": "execute_result"
    }
   ],
   "source": [
    "q[\"highlight\"][\"fields\"]"
   ]
  },
  {
   "cell_type": "code",
   "execution_count": 597,
   "id": "9a09b607",
   "metadata": {},
   "outputs": [
    {
     "data": {
      "text/plain": [
       "'{\"_index\":\"df\",\"_type\":\"_doc\",\"_id\":\"aaa\",\"_version\":1,\"result\":\"created\",\"_shards\":{\"total\":2,\"successful\":1,\"failed\":0},\"_seq_no\":168,\"_primary_term\":1}'"
      ]
     },
     "execution_count": 597,
     "metadata": {},
     "output_type": "execute_result"
    }
   ],
   "source": [
    "requests.put(url+\"/df/_doc/\"+\"aaa?pipeline=attachment\", data = json.dumps({\"data\":file_base64.decode('utf-8'),\"filename\":\"aaaaa\"}),headers = {\"Content-Type\": \"application/json\"}).text"
   ]
  },
  {
   "cell_type": "code",
   "execution_count": null,
   "id": "7bb684da",
   "metadata": {},
   "outputs": [],
   "source": []
  }
 ],
 "metadata": {
  "kernelspec": {
   "display_name": "Python 3 (ipykernel)",
   "language": "python",
   "name": "python3"
  },
  "language_info": {
   "codemirror_mode": {
    "name": "ipython",
    "version": 3
   },
   "file_extension": ".py",
   "mimetype": "text/x-python",
   "name": "python",
   "nbconvert_exporter": "python",
   "pygments_lexer": "ipython3",
   "version": "3.11.1"
  }
 },
 "nbformat": 4,
 "nbformat_minor": 5
}
